{
 "cells": [
  {
   "cell_type": "code",
   "execution_count": 1,
   "metadata": {},
   "outputs": [
    {
     "name": "stderr",
     "output_type": "stream",
     "text": [
      "d:\\SER_ICIIT_2024\\.venv\\Lib\\site-packages\\tqdm\\auto.py:21: TqdmWarning: IProgress not found. Please update jupyter and ipywidgets. See https://ipywidgets.readthedocs.io/en/stable/user_install.html\n",
      "  from .autonotebook import tqdm as notebook_tqdm\n"
     ]
    }
   ],
   "source": [
    "import os\n",
    "import sys\n",
    "\n",
    "lib_path = os.path.abspath(\"\").replace(\"notebooks\", \"src\")\n",
    "sys.path.append(lib_path)\n",
    "\n",
    "import torch\n",
    "import pickle\n",
    "import matplotlib.pyplot as plt\n",
    "import seaborn as sns\n",
    "\n",
    "from sklearn.metrics import balanced_accuracy_score, accuracy_score,confusion_matrix\n",
    "from transformers import BertTokenizer\n",
    "from data.dataloader import build_train_test_dataset\n",
    "from tqdm.auto import tqdm\n",
    "import numpy as np\n",
    "from models import networks\n",
    "from transformers import BertTokenizer, RobertaTokenizer"
   ]
  },
  {
   "cell_type": "code",
   "execution_count": 3,
   "metadata": {},
   "outputs": [
    {
     "data": {
      "text/plain": [
       "device(type='cuda')"
      ]
     },
     "execution_count": 3,
     "metadata": {},
     "output_type": "execute_result"
    }
   ],
   "source": [
    "device = torch.device(\"cuda\" if torch.cuda.is_available() else \"cpu\")\n",
    "device"
   ]
  },
  {
   "cell_type": "code",
   "execution_count": 6,
   "metadata": {},
   "outputs": [
    {
     "name": "stderr",
     "output_type": "stream",
     "text": [
      "Some weights of RobertaModel were not initialized from the model checkpoint at SamLowe/roberta-base-go_emotions and are newly initialized: ['roberta.pooler.dense.bias', 'roberta.pooler.dense.weight']\n",
      "You should probably TRAIN this model on a down-stream task to be able to use it for predictions and inference.\n"
     ]
    },
    {
     "ename": "PermissionError",
     "evalue": "[Errno 13] Permission denied: 'D:/SER_ICIIT_2024/notebooks\\\\checkpoints/bert_vggish_MMSERA/20231007-161007'",
     "output_type": "error",
     "traceback": [
      "\u001b[1;31m---------------------------------------------------------------------------\u001b[0m",
      "\u001b[1;31mPermissionError\u001b[0m                           Traceback (most recent call last)",
      "\u001b[1;32md:\\SER_ICIIT_2024\\notebooks\\decision.ipynb Cell 3\u001b[0m line \u001b[0;36m5\n\u001b[0;32m     <a href='vscode-notebook-cell:/d%3A/SER_ICIIT_2024/notebooks/decision.ipynb#W2sZmlsZQ%3D%3D?line=35'>36</a>\u001b[0m tokenizer \u001b[39m=\u001b[39m BertTokenizer\u001b[39m.\u001b[39mfrom_pretrained(\u001b[39m'\u001b[39m\u001b[39mbert-base-uncased\u001b[39m\u001b[39m'\u001b[39m)\n\u001b[0;32m     <a href='vscode-notebook-cell:/d%3A/SER_ICIIT_2024/notebooks/decision.ipynb#W2sZmlsZQ%3D%3D?line=37'>38</a>\u001b[0m network \u001b[39m=\u001b[39m \u001b[39mgetattr\u001b[39m(networks, opt\u001b[39m.\u001b[39mmodel_type)(\n\u001b[0;32m     <a href='vscode-notebook-cell:/d%3A/SER_ICIIT_2024/notebooks/decision.ipynb#W2sZmlsZQ%3D%3D?line=38'>39</a>\u001b[0m                 num_classes\u001b[39m=\u001b[39mopt\u001b[39m.\u001b[39mnum_classes,\n\u001b[0;32m     <a href='vscode-notebook-cell:/d%3A/SER_ICIIT_2024/notebooks/decision.ipynb#W2sZmlsZQ%3D%3D?line=39'>40</a>\u001b[0m                 num_attention_head\u001b[39m=\u001b[39mopt\u001b[39m.\u001b[39mnum_attention_head,\n\u001b[1;32m   (...)\u001b[0m\n\u001b[0;32m     <a href='vscode-notebook-cell:/d%3A/SER_ICIIT_2024/notebooks/decision.ipynb#W2sZmlsZQ%3D%3D?line=48'>49</a>\u001b[0m                 fusion_head_output_type\u001b[39m=\u001b[39mopt\u001b[39m.\u001b[39mfusion_head_output_type,\n\u001b[0;32m     <a href='vscode-notebook-cell:/d%3A/SER_ICIIT_2024/notebooks/decision.ipynb#W2sZmlsZQ%3D%3D?line=49'>50</a>\u001b[0m             )\n\u001b[1;32m---> <a href='vscode-notebook-cell:/d%3A/SER_ICIIT_2024/notebooks/decision.ipynb#W2sZmlsZQ%3D%3D?line=50'>51</a>\u001b[0m network\u001b[39m.\u001b[39mload_state_dict(torch\u001b[39m.\u001b[39;49mload(checkpoint_path, map_location\u001b[39m=\u001b[39;49mtorch\u001b[39m.\u001b[39;49mdevice(device))[\u001b[39m\"\u001b[39m\u001b[39mstate_dict_backbone\u001b[39m\u001b[39m\"\u001b[39m])\n\u001b[0;32m     <a href='vscode-notebook-cell:/d%3A/SER_ICIIT_2024/notebooks/decision.ipynb#W2sZmlsZQ%3D%3D?line=51'>52</a>\u001b[0m network\u001b[39m.\u001b[39meval()\n\u001b[0;32m     <a href='vscode-notebook-cell:/d%3A/SER_ICIIT_2024/notebooks/decision.ipynb#W2sZmlsZQ%3D%3D?line=52'>53</a>\u001b[0m network\u001b[39m.\u001b[39mto(device)\n",
      "File \u001b[1;32md:\\SER_ICIIT_2024\\.venv\\Lib\\site-packages\\torch\\serialization.py:986\u001b[0m, in \u001b[0;36mload\u001b[1;34m(f, map_location, pickle_module, weights_only, mmap, **pickle_load_args)\u001b[0m\n\u001b[0;32m    983\u001b[0m \u001b[39mif\u001b[39;00m \u001b[39m'\u001b[39m\u001b[39mencoding\u001b[39m\u001b[39m'\u001b[39m \u001b[39mnot\u001b[39;00m \u001b[39min\u001b[39;00m pickle_load_args\u001b[39m.\u001b[39mkeys():\n\u001b[0;32m    984\u001b[0m     pickle_load_args[\u001b[39m'\u001b[39m\u001b[39mencoding\u001b[39m\u001b[39m'\u001b[39m] \u001b[39m=\u001b[39m \u001b[39m'\u001b[39m\u001b[39mutf-8\u001b[39m\u001b[39m'\u001b[39m\n\u001b[1;32m--> 986\u001b[0m \u001b[39mwith\u001b[39;00m _open_file_like(f, \u001b[39m'\u001b[39;49m\u001b[39mrb\u001b[39;49m\u001b[39m'\u001b[39;49m) \u001b[39mas\u001b[39;00m opened_file:\n\u001b[0;32m    987\u001b[0m     \u001b[39mif\u001b[39;00m _is_zipfile(opened_file):\n\u001b[0;32m    988\u001b[0m         \u001b[39m# The zipfile reader is going to advance the current file position.\u001b[39;00m\n\u001b[0;32m    989\u001b[0m         \u001b[39m# If we want to actually tail call to torch.jit.load, we need to\u001b[39;00m\n\u001b[0;32m    990\u001b[0m         \u001b[39m# reset back to the original position.\u001b[39;00m\n\u001b[0;32m    991\u001b[0m         orig_position \u001b[39m=\u001b[39m opened_file\u001b[39m.\u001b[39mtell()\n",
      "File \u001b[1;32md:\\SER_ICIIT_2024\\.venv\\Lib\\site-packages\\torch\\serialization.py:435\u001b[0m, in \u001b[0;36m_open_file_like\u001b[1;34m(name_or_buffer, mode)\u001b[0m\n\u001b[0;32m    433\u001b[0m \u001b[39mdef\u001b[39;00m \u001b[39m_open_file_like\u001b[39m(name_or_buffer, mode):\n\u001b[0;32m    434\u001b[0m     \u001b[39mif\u001b[39;00m _is_path(name_or_buffer):\n\u001b[1;32m--> 435\u001b[0m         \u001b[39mreturn\u001b[39;00m _open_file(name_or_buffer, mode)\n\u001b[0;32m    436\u001b[0m     \u001b[39melse\u001b[39;00m:\n\u001b[0;32m    437\u001b[0m         \u001b[39mif\u001b[39;00m \u001b[39m'\u001b[39m\u001b[39mw\u001b[39m\u001b[39m'\u001b[39m \u001b[39min\u001b[39;00m mode:\n",
      "File \u001b[1;32md:\\SER_ICIIT_2024\\.venv\\Lib\\site-packages\\torch\\serialization.py:416\u001b[0m, in \u001b[0;36m_open_file.__init__\u001b[1;34m(self, name, mode)\u001b[0m\n\u001b[0;32m    415\u001b[0m \u001b[39mdef\u001b[39;00m \u001b[39m__init__\u001b[39m(\u001b[39mself\u001b[39m, name, mode):\n\u001b[1;32m--> 416\u001b[0m     \u001b[39msuper\u001b[39m()\u001b[39m.\u001b[39m\u001b[39m__init__\u001b[39m(\u001b[39mopen\u001b[39m(name, mode))\n",
      "\u001b[1;31mPermissionError\u001b[0m: [Errno 13] Permission denied: 'D:/SER_ICIIT_2024/notebooks\\\\checkpoints/bert_vggish_MMSERA/20231007-161007'"
     ]
    }
   ],
   "source": [
    "from configs.bert_vggish import Config as roberta_wav2vec2_config\n",
    "\n",
    "checkpoint_path = \"D:/SER_ICIIT_2024/notebooks\\checkpoints/bert_vggish_MMSERA/20231007-161007\" #check point\n",
    "opt_path = os.path.join(checkpoint_path,\"opt.log\")\n",
    "with open(opt_path, \"r\") as f:\n",
    "    data = f.read().split(\"\\n\")\n",
    "    # remove all empty strings\n",
    "    data = list(filter(None, data))\n",
    "    # convert to dict\n",
    "    data_dict ={}\n",
    "    for i in range(len(data)):\n",
    "        key, value = data[i].split(\":\")[0].strip(), data[i].split(\":\")[1].strip()\n",
    "        if '.' in value and value.replace('.', '').isdigit():\n",
    "            value = float(value)\n",
    "        elif value.isdigit():\n",
    "            value = int(value)\n",
    "        elif value == 'True':\n",
    "            value = True\n",
    "        elif value == 'False':\n",
    "            value = False\n",
    "        elif value == 'None':\n",
    "            value = None\n",
    "        data_dict[key] = value\n",
    "# Load checkpoint with save_all_states = False\n",
    "ckpt_path = os.path.join(checkpoint_path,\"weights/best_acc/checkpoint_0_0.pt\")\n",
    "# Load checkpoint with save_all_states = False\n",
    "# ckpt_path = os.path.join(checkpoint_path,\"weights/best_acc/checkpoint_0.pt\")\n",
    "opt = roberta_wav2vec2_config()\n",
    "# Replace the default config with the loaded config\n",
    "for key, value in data_dict.items():\n",
    "    setattr(opt, key, value)\n",
    "    \n",
    "# Set dataset path\n",
    "opt.data_root=\"D:/MELD/MELD\" \n",
    "\n",
    "tokenizer = BertTokenizer.from_pretrained('bert-base-uncased')\n",
    "\n",
    "network = getattr(networks, opt.model_type)(\n",
    "                num_classes=opt.num_classes,\n",
    "                num_attention_head=opt.num_attention_head,\n",
    "                dropout=opt.dropout,\n",
    "                text_encoder_type=opt.text_encoder_type,\n",
    "                text_encoder_dim=opt.text_encoder_dim,\n",
    "                text_unfreeze=opt.text_unfreeze,\n",
    "                audio_encoder_type=opt.audio_encoder_type,\n",
    "                audio_encoder_dim=opt.audio_encoder_dim,\n",
    "                audio_unfreeze=opt.audio_unfreeze,\n",
    "                audio_norm_type=opt.audio_norm_type,\n",
    "                fusion_head_output_type=opt.fusion_head_output_type,\n",
    "            )\n",
    "network.load_state_dict(torch.load(checkpoint_path, map_location=torch.device(device))[\"state_dict_backbone\"])\n",
    "network.eval()\n",
    "network.to(device)"
   ]
  }
 ],
 "metadata": {
  "kernelspec": {
   "display_name": ".venv",
   "language": "python",
   "name": "python3"
  },
  "language_info": {
   "codemirror_mode": {
    "name": "ipython",
    "version": 3
   },
   "file_extension": ".py",
   "mimetype": "text/x-python",
   "name": "python",
   "nbconvert_exporter": "python",
   "pygments_lexer": "ipython3",
   "version": "3.11.6"
  }
 },
 "nbformat": 4,
 "nbformat_minor": 2
}
